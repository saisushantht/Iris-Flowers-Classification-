{
  "nbformat": 4,
  "nbformat_minor": 0,
  "metadata": {
    "colab": {
      "name": "Iris_Flowers_Classification_with_Keras.ipynb",
      "provenance": [],
      "authorship_tag": "ABX9TyO3xOERbKam2u9FBxHTAmwn",
      "include_colab_link": true
    },
    "kernelspec": {
      "name": "python3",
      "display_name": "Python 3"
    }
  },
  "cells": [
    {
      "cell_type": "markdown",
      "metadata": {
        "id": "view-in-github",
        "colab_type": "text"
      },
      "source": [
        "<a href=\"https://colab.research.google.com/github/saisushantht/Iris-Flowers-Classification-/blob/master/Iris_Flowers_Classification_with_Keras.ipynb\" target=\"_parent\"><img src=\"https://colab.research.google.com/assets/colab-badge.svg\" alt=\"Open In Colab\"/></a>"
      ]
    },
    {
      "cell_type": "markdown",
      "metadata": {
        "id": "bX3Ty9dU0Zb5",
        "colab_type": "text"
      },
      "source": [
        "With Sequential model from Keras"
      ]
    },
    {
      "cell_type": "code",
      "metadata": {
        "id": "nFjRhRqbimxx",
        "colab_type": "code",
        "colab": {
          "base_uri": "https://localhost:8080/",
          "height": 35
        },
        "outputId": "5652b45b-8472-43d9-b352-43fede6d9161"
      },
      "source": [
        "from keras.models import Sequential   #type of model\n",
        "from keras.layers import Dense             #how we add layer to Sequential model\n",
        "from keras.utils import to_categorical     #to convert the numbers (labels) in proper vectors  \n",
        "\n",
        "from sklearn.datasets import load_iris  #function from sklearn\n",
        "from sklearn.model_selection import train_test_split\n",
        "from sklearn import preprocessing \n",
        "import matplotlib.pyplot as plt\n",
        "%matplotlib inline"
      ],
      "execution_count": 1,
      "outputs": [
        {
          "output_type": "stream",
          "text": [
            "Using TensorFlow backend.\n"
          ],
          "name": "stderr"
        }
      ]
    },
    {
      "cell_type": "markdown",
      "metadata": {
        "id": "cW1wM7Lwvevr",
        "colab_type": "text"
      },
      "source": [
        "Importing the dataset through different way i.e through sklearn library"
      ]
    },
    {
      "cell_type": "code",
      "metadata": {
        "id": "bmDzwNZwjADj",
        "colab_type": "code",
        "colab": {
          "base_uri": "https://localhost:8080/",
          "height": 35
        },
        "outputId": "7b88f10b-3b38-4f50-d3cd-de12b65b900e"
      },
      "source": [
        "data = load_iris()     #Load and return the iris dataset \n",
        "type(data)"
      ],
      "execution_count": 2,
      "outputs": [
        {
          "output_type": "execute_result",
          "data": {
            "text/plain": [
              "sklearn.utils.Bunch"
            ]
          },
          "metadata": {
            "tags": []
          },
          "execution_count": 2
        }
      ]
    },
    {
      "cell_type": "code",
      "metadata": {
        "id": "BrD5brdOqJxe",
        "colab_type": "code",
        "colab": {}
      },
      "source": [
        "X = preprocessing.scale( data['data'] )\n",
        "Y = to_categorical( data['target'] )\n"
      ],
      "execution_count": 5,
      "outputs": []
    },
    {
      "cell_type": "code",
      "metadata": {
        "id": "wSyifiHnrL04",
        "colab_type": "code",
        "colab": {
          "base_uri": "https://localhost:8080/",
          "height": 54
        },
        "outputId": "87675e58-6290-47b6-ee20-7c04e1d080df"
      },
      "source": [
        "print(X.shape)\n",
        "print(Y.shape)"
      ],
      "execution_count": 6,
      "outputs": [
        {
          "output_type": "stream",
          "text": [
            "(150, 4)\n",
            "(150, 3)\n"
          ],
          "name": "stdout"
        }
      ]
    },
    {
      "cell_type": "markdown",
      "metadata": {
        "id": "yDV-Hz88wPO9",
        "colab_type": "text"
      },
      "source": [
        "splitting the dataset"
      ]
    },
    {
      "cell_type": "code",
      "metadata": {
        "id": "4dVUc6U3qiWt",
        "colab_type": "code",
        "colab": {}
      },
      "source": [
        "X_train,X_test,Y_train,Y_test=train_test_split(X,Y,test_size=0.3)"
      ],
      "execution_count": 7,
      "outputs": []
    },
    {
      "cell_type": "code",
      "metadata": {
        "id": "K2M_LhcKq2Jk",
        "colab_type": "code",
        "colab": {
          "base_uri": "https://localhost:8080/",
          "height": 90
        },
        "outputId": "0f545491-43b4-497d-b80c-fdfcb24ba942"
      },
      "source": [
        "print(X_train.shape)\n",
        "print(X_test.shape)\n",
        "print(Y_train.shape)\n",
        "print(Y_test.shape)"
      ],
      "execution_count": 8,
      "outputs": [
        {
          "output_type": "stream",
          "text": [
            "(105, 4)\n",
            "(45, 4)\n",
            "(105, 3)\n",
            "(45, 3)\n"
          ],
          "name": "stdout"
        }
      ]
    },
    {
      "cell_type": "markdown",
      "metadata": {
        "id": "Uol0cC7HrR8v",
        "colab_type": "text"
      },
      "source": [
        "Model"
      ]
    },
    {
      "cell_type": "markdown",
      "metadata": {
        "id": "kKU_czrTweou",
        "colab_type": "text"
      },
      "source": [
        "The sequential model is a linear stack of layers.\n",
        "i.e  sequential  allows us to create models layer-by-layer.\n",
        "\n",
        "\n",
        "\n",
        "---\n",
        "activation function is a function that is added into an artificial neural network in order to help the network learn complex patterns in the data. \n",
        "It takes in the output signal from the previous cell and converts it into some form that can be taken as input to the next cell.\n",
        "---\n",
        "***ReLU function***\n",
        "\n",
        "ReLu is a non-linear activation function that is used in multi-layer neural networks or deep neural networks. This function can be represented as: \n",
        "f(x)=max(0,x)\n",
        "```\n",
        "def relu_function(x):\n",
        "    if x<0:\n",
        "        return 0\n",
        "    else:\n",
        "        return x\n",
        "```\n",
        "        \n",
        "---\n",
        "\n",
        "***Softmax function***\n",
        "\n",
        "Softmax function is often described as a combination of multiple sigmoids.\n",
        "The softmax function can be used for multiclass classification problems. This function returns the probability for a datapoint belonging to each individual class.\n",
        "\n",
        "```\n",
        "def softmax_function(x):\n",
        "    z = np.exp(x)\n",
        "    z_ = z/z.sum()\n",
        "    return z_\n",
        "```\n",
        "---\n",
        "Optimizers are algorithms or methods used to change the attributes of your neural network such as weights and learning rate in order to reduce the losses. Optimizers help to get results faster.\n",
        "\n",
        "\n",
        "---\n",
        "***Adam optimization***\n",
        "algorithm that can be used instead of the classical stochastic gradient descent procedure to update network weights iterative based in training data.\n",
        "\n",
        "\n",
        "---\n",
        "A loss function is used to optimize the parameter values in a neural network model.\n",
        "\n",
        "\n",
        "---\n",
        "***Categorical crossentropy***\n",
        " is a loss function that is used in multi-class classification tasks. These are tasks where an example can only belong to one out of many possible categories, and the model must decide which one.\n",
        "\n",
        "\n",
        "---\n",
        "metrics are used to evaluate different Machine Learning Algorithms. \n"
      ]
    },
    {
      "cell_type": "code",
      "metadata": {
        "id": "YM6KVh1xrIVR",
        "colab_type": "code",
        "colab": {}
      },
      "source": [
        "model = Sequential()                      \n",
        "model.add(Dense(10,input_dim=4,activation='relu'))       #adding the layers\n",
        "model.add(Dense(3,activation='softmax'))\n",
        "model.compile(loss='categorical_crossentropy' , optimizer='adam' ,metrics=['accuracy'])      #to compile the model\n"
      ],
      "execution_count": 9,
      "outputs": []
    },
    {
      "cell_type": "code",
      "metadata": {
        "id": "xt6WG4s3szWi",
        "colab_type": "code",
        "colab": {
          "base_uri": "https://localhost:8080/",
          "height": 238
        },
        "outputId": "266aa068-ef45-4911-eb05-aadfde17361e"
      },
      "source": [
        "model.summary()         #to known about our model"
      ],
      "execution_count": 10,
      "outputs": [
        {
          "output_type": "stream",
          "text": [
            "Model: \"sequential_1\"\n",
            "_________________________________________________________________\n",
            "Layer (type)                 Output Shape              Param #   \n",
            "=================================================================\n",
            "dense_1 (Dense)              (None, 10)                50        \n",
            "_________________________________________________________________\n",
            "dense_2 (Dense)              (None, 3)                 33        \n",
            "=================================================================\n",
            "Total params: 83\n",
            "Trainable params: 83\n",
            "Non-trainable params: 0\n",
            "_________________________________________________________________\n"
          ],
          "name": "stdout"
        }
      ]
    },
    {
      "cell_type": "markdown",
      "metadata": {
        "id": "X_22MjdqsAxY",
        "colab_type": "text"
      },
      "source": [
        "Fittting the model"
      ]
    },
    {
      "cell_type": "code",
      "metadata": {
        "id": "g0t2pj7Hr_ZQ",
        "colab_type": "code",
        "colab": {
          "base_uri": "https://localhost:8080/",
          "height": 1000
        },
        "outputId": "9d96b044-a3af-43c6-d597-ab28c2d987b7"
      },
      "source": [
        "history  = model.fit(X_train , Y_train , validation_data=(X_test,Y_test),epochs=200, batch_size=10)"
      ],
      "execution_count": 11,
      "outputs": [
        {
          "output_type": "stream",
          "text": [
            "Train on 105 samples, validate on 45 samples\n",
            "Epoch 1/200\n",
            "105/105 [==============================] - 0s 3ms/step - loss: 1.7022 - accuracy: 0.2190 - val_loss: 1.5421 - val_accuracy: 0.2222\n",
            "Epoch 2/200\n",
            "105/105 [==============================] - 0s 189us/step - loss: 1.5836 - accuracy: 0.2190 - val_loss: 1.4609 - val_accuracy: 0.2222\n",
            "Epoch 3/200\n",
            "105/105 [==============================] - 0s 175us/step - loss: 1.4763 - accuracy: 0.2190 - val_loss: 1.3864 - val_accuracy: 0.2222\n",
            "Epoch 4/200\n",
            "105/105 [==============================] - 0s 177us/step - loss: 1.3842 - accuracy: 0.2190 - val_loss: 1.3180 - val_accuracy: 0.2222\n",
            "Epoch 5/200\n",
            "105/105 [==============================] - 0s 171us/step - loss: 1.2965 - accuracy: 0.2381 - val_loss: 1.2577 - val_accuracy: 0.3333\n",
            "Epoch 6/200\n",
            "105/105 [==============================] - 0s 240us/step - loss: 1.2209 - accuracy: 0.4381 - val_loss: 1.2019 - val_accuracy: 0.4000\n",
            "Epoch 7/200\n",
            "105/105 [==============================] - 0s 206us/step - loss: 1.1527 - accuracy: 0.5810 - val_loss: 1.1514 - val_accuracy: 0.4667\n",
            "Epoch 8/200\n",
            "105/105 [==============================] - 0s 204us/step - loss: 1.0923 - accuracy: 0.5714 - val_loss: 1.1058 - val_accuracy: 0.4667\n",
            "Epoch 9/200\n",
            "105/105 [==============================] - 0s 183us/step - loss: 1.0395 - accuracy: 0.5714 - val_loss: 1.0642 - val_accuracy: 0.4444\n",
            "Epoch 10/200\n",
            "105/105 [==============================] - 0s 198us/step - loss: 0.9906 - accuracy: 0.5714 - val_loss: 1.0262 - val_accuracy: 0.4667\n",
            "Epoch 11/200\n",
            "105/105 [==============================] - 0s 230us/step - loss: 0.9473 - accuracy: 0.5714 - val_loss: 0.9917 - val_accuracy: 0.4667\n",
            "Epoch 12/200\n",
            "105/105 [==============================] - 0s 205us/step - loss: 0.9085 - accuracy: 0.5524 - val_loss: 0.9581 - val_accuracy: 0.4222\n",
            "Epoch 13/200\n",
            "105/105 [==============================] - 0s 191us/step - loss: 0.8723 - accuracy: 0.5524 - val_loss: 0.9274 - val_accuracy: 0.4222\n",
            "Epoch 14/200\n",
            "105/105 [==============================] - 0s 171us/step - loss: 0.8405 - accuracy: 0.5429 - val_loss: 0.8984 - val_accuracy: 0.4000\n",
            "Epoch 15/200\n",
            "105/105 [==============================] - 0s 196us/step - loss: 0.8103 - accuracy: 0.5333 - val_loss: 0.8715 - val_accuracy: 0.4000\n",
            "Epoch 16/200\n",
            "105/105 [==============================] - 0s 190us/step - loss: 0.7824 - accuracy: 0.5238 - val_loss: 0.8457 - val_accuracy: 0.4000\n",
            "Epoch 17/200\n",
            "105/105 [==============================] - 0s 175us/step - loss: 0.7553 - accuracy: 0.5048 - val_loss: 0.8206 - val_accuracy: 0.3333\n",
            "Epoch 18/200\n",
            "105/105 [==============================] - 0s 193us/step - loss: 0.7310 - accuracy: 0.4762 - val_loss: 0.7964 - val_accuracy: 0.3111\n",
            "Epoch 19/200\n",
            "105/105 [==============================] - 0s 204us/step - loss: 0.7066 - accuracy: 0.4667 - val_loss: 0.7742 - val_accuracy: 0.3333\n",
            "Epoch 20/200\n",
            "105/105 [==============================] - 0s 209us/step - loss: 0.6844 - accuracy: 0.4476 - val_loss: 0.7536 - val_accuracy: 0.3778\n",
            "Epoch 21/200\n",
            "105/105 [==============================] - 0s 204us/step - loss: 0.6647 - accuracy: 0.4571 - val_loss: 0.7334 - val_accuracy: 0.4222\n",
            "Epoch 22/200\n",
            "105/105 [==============================] - 0s 267us/step - loss: 0.6441 - accuracy: 0.4952 - val_loss: 0.7156 - val_accuracy: 0.4889\n",
            "Epoch 23/200\n",
            "105/105 [==============================] - 0s 176us/step - loss: 0.6279 - accuracy: 0.5524 - val_loss: 0.6972 - val_accuracy: 0.5333\n",
            "Epoch 24/200\n",
            "105/105 [==============================] - 0s 201us/step - loss: 0.6094 - accuracy: 0.5905 - val_loss: 0.6813 - val_accuracy: 0.5778\n",
            "Epoch 25/200\n",
            "105/105 [==============================] - 0s 211us/step - loss: 0.5943 - accuracy: 0.6286 - val_loss: 0.6665 - val_accuracy: 0.6000\n",
            "Epoch 26/200\n",
            "105/105 [==============================] - 0s 177us/step - loss: 0.5794 - accuracy: 0.6381 - val_loss: 0.6536 - val_accuracy: 0.6000\n",
            "Epoch 27/200\n",
            "105/105 [==============================] - 0s 236us/step - loss: 0.5666 - accuracy: 0.6571 - val_loss: 0.6412 - val_accuracy: 0.6222\n",
            "Epoch 28/200\n",
            "105/105 [==============================] - 0s 247us/step - loss: 0.5543 - accuracy: 0.6571 - val_loss: 0.6296 - val_accuracy: 0.6222\n",
            "Epoch 29/200\n",
            "105/105 [==============================] - 0s 278us/step - loss: 0.5437 - accuracy: 0.6762 - val_loss: 0.6184 - val_accuracy: 0.6222\n",
            "Epoch 30/200\n",
            "105/105 [==============================] - 0s 250us/step - loss: 0.5332 - accuracy: 0.7048 - val_loss: 0.6085 - val_accuracy: 0.6222\n",
            "Epoch 31/200\n",
            "105/105 [==============================] - 0s 275us/step - loss: 0.5237 - accuracy: 0.7048 - val_loss: 0.5995 - val_accuracy: 0.6222\n",
            "Epoch 32/200\n",
            "105/105 [==============================] - 0s 236us/step - loss: 0.5153 - accuracy: 0.7048 - val_loss: 0.5909 - val_accuracy: 0.6222\n",
            "Epoch 33/200\n",
            "105/105 [==============================] - 0s 227us/step - loss: 0.5072 - accuracy: 0.7143 - val_loss: 0.5827 - val_accuracy: 0.6444\n",
            "Epoch 34/200\n",
            "105/105 [==============================] - 0s 222us/step - loss: 0.4993 - accuracy: 0.7143 - val_loss: 0.5750 - val_accuracy: 0.6667\n",
            "Epoch 35/200\n",
            "105/105 [==============================] - 0s 256us/step - loss: 0.4925 - accuracy: 0.7238 - val_loss: 0.5673 - val_accuracy: 0.6667\n",
            "Epoch 36/200\n",
            "105/105 [==============================] - 0s 268us/step - loss: 0.4850 - accuracy: 0.7238 - val_loss: 0.5604 - val_accuracy: 0.6889\n",
            "Epoch 37/200\n",
            "105/105 [==============================] - 0s 175us/step - loss: 0.4786 - accuracy: 0.7238 - val_loss: 0.5533 - val_accuracy: 0.6889\n",
            "Epoch 38/200\n",
            "105/105 [==============================] - 0s 185us/step - loss: 0.4718 - accuracy: 0.7333 - val_loss: 0.5465 - val_accuracy: 0.6889\n",
            "Epoch 39/200\n",
            "105/105 [==============================] - 0s 180us/step - loss: 0.4656 - accuracy: 0.7619 - val_loss: 0.5399 - val_accuracy: 0.6889\n",
            "Epoch 40/200\n",
            "105/105 [==============================] - 0s 193us/step - loss: 0.4594 - accuracy: 0.7810 - val_loss: 0.5335 - val_accuracy: 0.6889\n",
            "Epoch 41/200\n",
            "105/105 [==============================] - 0s 181us/step - loss: 0.4536 - accuracy: 0.7905 - val_loss: 0.5271 - val_accuracy: 0.7333\n",
            "Epoch 42/200\n",
            "105/105 [==============================] - 0s 190us/step - loss: 0.4479 - accuracy: 0.7905 - val_loss: 0.5206 - val_accuracy: 0.7556\n",
            "Epoch 43/200\n",
            "105/105 [==============================] - 0s 197us/step - loss: 0.4422 - accuracy: 0.8000 - val_loss: 0.5144 - val_accuracy: 0.7778\n",
            "Epoch 44/200\n",
            "105/105 [==============================] - 0s 175us/step - loss: 0.4366 - accuracy: 0.8000 - val_loss: 0.5083 - val_accuracy: 0.7778\n",
            "Epoch 45/200\n",
            "105/105 [==============================] - 0s 223us/step - loss: 0.4311 - accuracy: 0.8000 - val_loss: 0.5024 - val_accuracy: 0.8000\n",
            "Epoch 46/200\n",
            "105/105 [==============================] - 0s 193us/step - loss: 0.4260 - accuracy: 0.8000 - val_loss: 0.4961 - val_accuracy: 0.8000\n",
            "Epoch 47/200\n",
            "105/105 [==============================] - 0s 197us/step - loss: 0.4207 - accuracy: 0.8190 - val_loss: 0.4902 - val_accuracy: 0.8000\n",
            "Epoch 48/200\n",
            "105/105 [==============================] - 0s 276us/step - loss: 0.4154 - accuracy: 0.8190 - val_loss: 0.4844 - val_accuracy: 0.8000\n",
            "Epoch 49/200\n",
            "105/105 [==============================] - 0s 225us/step - loss: 0.4105 - accuracy: 0.8190 - val_loss: 0.4785 - val_accuracy: 0.8000\n",
            "Epoch 50/200\n",
            "105/105 [==============================] - 0s 227us/step - loss: 0.4053 - accuracy: 0.8190 - val_loss: 0.4729 - val_accuracy: 0.8000\n",
            "Epoch 51/200\n",
            "105/105 [==============================] - 0s 267us/step - loss: 0.4004 - accuracy: 0.8190 - val_loss: 0.4671 - val_accuracy: 0.8000\n",
            "Epoch 52/200\n",
            "105/105 [==============================] - 0s 245us/step - loss: 0.3960 - accuracy: 0.8190 - val_loss: 0.4616 - val_accuracy: 0.8000\n",
            "Epoch 53/200\n",
            "105/105 [==============================] - 0s 219us/step - loss: 0.3908 - accuracy: 0.8381 - val_loss: 0.4559 - val_accuracy: 0.8000\n",
            "Epoch 54/200\n",
            "105/105 [==============================] - 0s 225us/step - loss: 0.3856 - accuracy: 0.8381 - val_loss: 0.4507 - val_accuracy: 0.8000\n",
            "Epoch 55/200\n",
            "105/105 [==============================] - 0s 236us/step - loss: 0.3811 - accuracy: 0.8286 - val_loss: 0.4451 - val_accuracy: 0.8000\n",
            "Epoch 56/200\n",
            "105/105 [==============================] - 0s 204us/step - loss: 0.3764 - accuracy: 0.8381 - val_loss: 0.4396 - val_accuracy: 0.8000\n",
            "Epoch 57/200\n",
            "105/105 [==============================] - 0s 172us/step - loss: 0.3719 - accuracy: 0.8381 - val_loss: 0.4345 - val_accuracy: 0.8000\n",
            "Epoch 58/200\n",
            "105/105 [==============================] - 0s 177us/step - loss: 0.3675 - accuracy: 0.8381 - val_loss: 0.4291 - val_accuracy: 0.8000\n",
            "Epoch 59/200\n",
            "105/105 [==============================] - 0s 226us/step - loss: 0.3627 - accuracy: 0.8381 - val_loss: 0.4241 - val_accuracy: 0.8000\n",
            "Epoch 60/200\n",
            "105/105 [==============================] - 0s 201us/step - loss: 0.3584 - accuracy: 0.8381 - val_loss: 0.4191 - val_accuracy: 0.8000\n",
            "Epoch 61/200\n",
            "105/105 [==============================] - 0s 200us/step - loss: 0.3541 - accuracy: 0.8476 - val_loss: 0.4142 - val_accuracy: 0.8000\n",
            "Epoch 62/200\n",
            "105/105 [==============================] - 0s 180us/step - loss: 0.3499 - accuracy: 0.8476 - val_loss: 0.4092 - val_accuracy: 0.8222\n",
            "Epoch 63/200\n",
            "105/105 [==============================] - 0s 220us/step - loss: 0.3456 - accuracy: 0.8476 - val_loss: 0.4039 - val_accuracy: 0.8222\n",
            "Epoch 64/200\n",
            "105/105 [==============================] - 0s 207us/step - loss: 0.3411 - accuracy: 0.8476 - val_loss: 0.3989 - val_accuracy: 0.8444\n",
            "Epoch 65/200\n",
            "105/105 [==============================] - 0s 186us/step - loss: 0.3372 - accuracy: 0.8476 - val_loss: 0.3942 - val_accuracy: 0.8222\n",
            "Epoch 66/200\n",
            "105/105 [==============================] - 0s 225us/step - loss: 0.3328 - accuracy: 0.8476 - val_loss: 0.3893 - val_accuracy: 0.8444\n",
            "Epoch 67/200\n",
            "105/105 [==============================] - 0s 186us/step - loss: 0.3291 - accuracy: 0.8476 - val_loss: 0.3842 - val_accuracy: 0.8444\n",
            "Epoch 68/200\n",
            "105/105 [==============================] - 0s 198us/step - loss: 0.3250 - accuracy: 0.8571 - val_loss: 0.3796 - val_accuracy: 0.8444\n",
            "Epoch 69/200\n",
            "105/105 [==============================] - 0s 188us/step - loss: 0.3210 - accuracy: 0.8667 - val_loss: 0.3758 - val_accuracy: 0.8444\n",
            "Epoch 70/200\n",
            "105/105 [==============================] - 0s 181us/step - loss: 0.3170 - accuracy: 0.8667 - val_loss: 0.3713 - val_accuracy: 0.8444\n",
            "Epoch 71/200\n",
            "105/105 [==============================] - 0s 173us/step - loss: 0.3132 - accuracy: 0.8667 - val_loss: 0.3664 - val_accuracy: 0.8444\n",
            "Epoch 72/200\n",
            "105/105 [==============================] - 0s 187us/step - loss: 0.3093 - accuracy: 0.8667 - val_loss: 0.3618 - val_accuracy: 0.8444\n",
            "Epoch 73/200\n",
            "105/105 [==============================] - 0s 215us/step - loss: 0.3052 - accuracy: 0.8667 - val_loss: 0.3577 - val_accuracy: 0.8444\n",
            "Epoch 74/200\n",
            "105/105 [==============================] - 0s 194us/step - loss: 0.3016 - accuracy: 0.8667 - val_loss: 0.3531 - val_accuracy: 0.8444\n",
            "Epoch 75/200\n",
            "105/105 [==============================] - 0s 196us/step - loss: 0.2976 - accuracy: 0.8667 - val_loss: 0.3489 - val_accuracy: 0.8444\n",
            "Epoch 76/200\n",
            "105/105 [==============================] - 0s 167us/step - loss: 0.2937 - accuracy: 0.8667 - val_loss: 0.3446 - val_accuracy: 0.8444\n",
            "Epoch 77/200\n",
            "105/105 [==============================] - 0s 172us/step - loss: 0.2897 - accuracy: 0.8762 - val_loss: 0.3402 - val_accuracy: 0.8667\n",
            "Epoch 78/200\n",
            "105/105 [==============================] - 0s 170us/step - loss: 0.2863 - accuracy: 0.8762 - val_loss: 0.3364 - val_accuracy: 0.8667\n",
            "Epoch 79/200\n",
            "105/105 [==============================] - 0s 175us/step - loss: 0.2824 - accuracy: 0.8762 - val_loss: 0.3315 - val_accuracy: 0.8667\n",
            "Epoch 80/200\n",
            "105/105 [==============================] - 0s 184us/step - loss: 0.2786 - accuracy: 0.8857 - val_loss: 0.3275 - val_accuracy: 0.8667\n",
            "Epoch 81/200\n",
            "105/105 [==============================] - 0s 242us/step - loss: 0.2750 - accuracy: 0.8857 - val_loss: 0.3230 - val_accuracy: 0.8667\n",
            "Epoch 82/200\n",
            "105/105 [==============================] - 0s 165us/step - loss: 0.2716 - accuracy: 0.8857 - val_loss: 0.3190 - val_accuracy: 0.8667\n",
            "Epoch 83/200\n",
            "105/105 [==============================] - 0s 204us/step - loss: 0.2683 - accuracy: 0.8857 - val_loss: 0.3155 - val_accuracy: 0.8889\n",
            "Epoch 84/200\n",
            "105/105 [==============================] - 0s 209us/step - loss: 0.2650 - accuracy: 0.8857 - val_loss: 0.3118 - val_accuracy: 0.8889\n",
            "Epoch 85/200\n",
            "105/105 [==============================] - 0s 181us/step - loss: 0.2616 - accuracy: 0.8952 - val_loss: 0.3083 - val_accuracy: 0.8889\n",
            "Epoch 86/200\n",
            "105/105 [==============================] - 0s 207us/step - loss: 0.2583 - accuracy: 0.8952 - val_loss: 0.3050 - val_accuracy: 0.8889\n",
            "Epoch 87/200\n",
            "105/105 [==============================] - 0s 230us/step - loss: 0.2551 - accuracy: 0.8952 - val_loss: 0.3017 - val_accuracy: 0.8889\n",
            "Epoch 88/200\n",
            "105/105 [==============================] - 0s 191us/step - loss: 0.2520 - accuracy: 0.8952 - val_loss: 0.2988 - val_accuracy: 0.8889\n",
            "Epoch 89/200\n",
            "105/105 [==============================] - 0s 210us/step - loss: 0.2488 - accuracy: 0.8952 - val_loss: 0.2950 - val_accuracy: 0.8889\n",
            "Epoch 90/200\n",
            "105/105 [==============================] - 0s 200us/step - loss: 0.2459 - accuracy: 0.8952 - val_loss: 0.2917 - val_accuracy: 0.8889\n",
            "Epoch 91/200\n",
            "105/105 [==============================] - 0s 179us/step - loss: 0.2427 - accuracy: 0.8952 - val_loss: 0.2891 - val_accuracy: 0.8889\n",
            "Epoch 92/200\n",
            "105/105 [==============================] - 0s 193us/step - loss: 0.2400 - accuracy: 0.8952 - val_loss: 0.2865 - val_accuracy: 0.8889\n",
            "Epoch 93/200\n",
            "105/105 [==============================] - 0s 178us/step - loss: 0.2371 - accuracy: 0.9048 - val_loss: 0.2836 - val_accuracy: 0.8889\n",
            "Epoch 94/200\n",
            "105/105 [==============================] - 0s 193us/step - loss: 0.2343 - accuracy: 0.9048 - val_loss: 0.2797 - val_accuracy: 0.8889\n",
            "Epoch 95/200\n",
            "105/105 [==============================] - 0s 189us/step - loss: 0.2316 - accuracy: 0.9048 - val_loss: 0.2764 - val_accuracy: 0.8889\n",
            "Epoch 96/200\n",
            "105/105 [==============================] - 0s 197us/step - loss: 0.2290 - accuracy: 0.9048 - val_loss: 0.2727 - val_accuracy: 0.8889\n",
            "Epoch 97/200\n",
            "105/105 [==============================] - 0s 180us/step - loss: 0.2263 - accuracy: 0.9048 - val_loss: 0.2705 - val_accuracy: 0.8889\n",
            "Epoch 98/200\n",
            "105/105 [==============================] - 0s 186us/step - loss: 0.2238 - accuracy: 0.9048 - val_loss: 0.2679 - val_accuracy: 0.8667\n",
            "Epoch 99/200\n",
            "105/105 [==============================] - 0s 244us/step - loss: 0.2214 - accuracy: 0.9048 - val_loss: 0.2644 - val_accuracy: 0.8667\n",
            "Epoch 100/200\n",
            "105/105 [==============================] - 0s 182us/step - loss: 0.2191 - accuracy: 0.9048 - val_loss: 0.2616 - val_accuracy: 0.8889\n",
            "Epoch 101/200\n",
            "105/105 [==============================] - 0s 176us/step - loss: 0.2167 - accuracy: 0.9048 - val_loss: 0.2601 - val_accuracy: 0.8889\n",
            "Epoch 102/200\n",
            "105/105 [==============================] - 0s 178us/step - loss: 0.2145 - accuracy: 0.9238 - val_loss: 0.2584 - val_accuracy: 0.8889\n",
            "Epoch 103/200\n",
            "105/105 [==============================] - 0s 174us/step - loss: 0.2119 - accuracy: 0.9238 - val_loss: 0.2555 - val_accuracy: 0.8889\n",
            "Epoch 104/200\n",
            "105/105 [==============================] - 0s 177us/step - loss: 0.2099 - accuracy: 0.9238 - val_loss: 0.2527 - val_accuracy: 0.8889\n",
            "Epoch 105/200\n",
            "105/105 [==============================] - 0s 190us/step - loss: 0.2077 - accuracy: 0.9238 - val_loss: 0.2510 - val_accuracy: 0.8889\n",
            "Epoch 106/200\n",
            "105/105 [==============================] - 0s 176us/step - loss: 0.2053 - accuracy: 0.9238 - val_loss: 0.2478 - val_accuracy: 0.8889\n",
            "Epoch 107/200\n",
            "105/105 [==============================] - 0s 175us/step - loss: 0.2033 - accuracy: 0.9238 - val_loss: 0.2454 - val_accuracy: 0.8889\n",
            "Epoch 108/200\n",
            "105/105 [==============================] - 0s 187us/step - loss: 0.2011 - accuracy: 0.9238 - val_loss: 0.2436 - val_accuracy: 0.9111\n",
            "Epoch 109/200\n",
            "105/105 [==============================] - 0s 185us/step - loss: 0.1992 - accuracy: 0.9238 - val_loss: 0.2408 - val_accuracy: 0.9333\n",
            "Epoch 110/200\n",
            "105/105 [==============================] - 0s 227us/step - loss: 0.1969 - accuracy: 0.9238 - val_loss: 0.2396 - val_accuracy: 0.9333\n",
            "Epoch 111/200\n",
            "105/105 [==============================] - 0s 173us/step - loss: 0.1951 - accuracy: 0.9143 - val_loss: 0.2379 - val_accuracy: 0.9333\n",
            "Epoch 112/200\n",
            "105/105 [==============================] - 0s 188us/step - loss: 0.1932 - accuracy: 0.9143 - val_loss: 0.2356 - val_accuracy: 0.9333\n",
            "Epoch 113/200\n",
            "105/105 [==============================] - 0s 206us/step - loss: 0.1914 - accuracy: 0.9238 - val_loss: 0.2341 - val_accuracy: 0.9333\n",
            "Epoch 114/200\n",
            "105/105 [==============================] - 0s 195us/step - loss: 0.1892 - accuracy: 0.9238 - val_loss: 0.2309 - val_accuracy: 0.9333\n",
            "Epoch 115/200\n",
            "105/105 [==============================] - 0s 183us/step - loss: 0.1875 - accuracy: 0.9238 - val_loss: 0.2273 - val_accuracy: 0.9333\n",
            "Epoch 116/200\n",
            "105/105 [==============================] - 0s 182us/step - loss: 0.1856 - accuracy: 0.9238 - val_loss: 0.2246 - val_accuracy: 0.9333\n",
            "Epoch 117/200\n",
            "105/105 [==============================] - 0s 177us/step - loss: 0.1839 - accuracy: 0.9333 - val_loss: 0.2233 - val_accuracy: 0.9333\n",
            "Epoch 118/200\n",
            "105/105 [==============================] - 0s 179us/step - loss: 0.1823 - accuracy: 0.9333 - val_loss: 0.2198 - val_accuracy: 0.9333\n",
            "Epoch 119/200\n",
            "105/105 [==============================] - 0s 176us/step - loss: 0.1804 - accuracy: 0.9333 - val_loss: 0.2181 - val_accuracy: 0.9333\n",
            "Epoch 120/200\n",
            "105/105 [==============================] - 0s 241us/step - loss: 0.1786 - accuracy: 0.9333 - val_loss: 0.2170 - val_accuracy: 0.9333\n",
            "Epoch 121/200\n",
            "105/105 [==============================] - 0s 247us/step - loss: 0.1775 - accuracy: 0.9333 - val_loss: 0.2131 - val_accuracy: 0.9333\n",
            "Epoch 122/200\n",
            "105/105 [==============================] - 0s 199us/step - loss: 0.1754 - accuracy: 0.9333 - val_loss: 0.2109 - val_accuracy: 0.9333\n",
            "Epoch 123/200\n",
            "105/105 [==============================] - 0s 176us/step - loss: 0.1736 - accuracy: 0.9333 - val_loss: 0.2109 - val_accuracy: 0.9333\n",
            "Epoch 124/200\n",
            "105/105 [==============================] - 0s 193us/step - loss: 0.1720 - accuracy: 0.9333 - val_loss: 0.2094 - val_accuracy: 0.9333\n",
            "Epoch 125/200\n",
            "105/105 [==============================] - 0s 194us/step - loss: 0.1702 - accuracy: 0.9333 - val_loss: 0.2071 - val_accuracy: 0.9333\n",
            "Epoch 126/200\n",
            "105/105 [==============================] - 0s 176us/step - loss: 0.1689 - accuracy: 0.9333 - val_loss: 0.2066 - val_accuracy: 0.9333\n",
            "Epoch 127/200\n",
            "105/105 [==============================] - 0s 188us/step - loss: 0.1667 - accuracy: 0.9333 - val_loss: 0.2029 - val_accuracy: 0.9333\n",
            "Epoch 128/200\n",
            "105/105 [==============================] - 0s 196us/step - loss: 0.1650 - accuracy: 0.9333 - val_loss: 0.2005 - val_accuracy: 0.9333\n",
            "Epoch 129/200\n",
            "105/105 [==============================] - 0s 208us/step - loss: 0.1632 - accuracy: 0.9429 - val_loss: 0.1994 - val_accuracy: 0.9333\n",
            "Epoch 130/200\n",
            "105/105 [==============================] - 0s 177us/step - loss: 0.1619 - accuracy: 0.9524 - val_loss: 0.1986 - val_accuracy: 0.9333\n",
            "Epoch 131/200\n",
            "105/105 [==============================] - 0s 177us/step - loss: 0.1600 - accuracy: 0.9524 - val_loss: 0.1968 - val_accuracy: 0.9333\n",
            "Epoch 132/200\n",
            "105/105 [==============================] - 0s 167us/step - loss: 0.1580 - accuracy: 0.9524 - val_loss: 0.1939 - val_accuracy: 0.9333\n",
            "Epoch 133/200\n",
            "105/105 [==============================] - 0s 179us/step - loss: 0.1561 - accuracy: 0.9524 - val_loss: 0.1909 - val_accuracy: 0.9333\n",
            "Epoch 134/200\n",
            "105/105 [==============================] - 0s 166us/step - loss: 0.1539 - accuracy: 0.9524 - val_loss: 0.1896 - val_accuracy: 0.9333\n",
            "Epoch 135/200\n",
            "105/105 [==============================] - 0s 189us/step - loss: 0.1520 - accuracy: 0.9524 - val_loss: 0.1870 - val_accuracy: 0.9556\n",
            "Epoch 136/200\n",
            "105/105 [==============================] - 0s 185us/step - loss: 0.1498 - accuracy: 0.9524 - val_loss: 0.1864 - val_accuracy: 0.9556\n",
            "Epoch 137/200\n",
            "105/105 [==============================] - 0s 188us/step - loss: 0.1475 - accuracy: 0.9619 - val_loss: 0.1855 - val_accuracy: 0.9556\n",
            "Epoch 138/200\n",
            "105/105 [==============================] - 0s 181us/step - loss: 0.1451 - accuracy: 0.9619 - val_loss: 0.1834 - val_accuracy: 0.9556\n",
            "Epoch 139/200\n",
            "105/105 [==============================] - 0s 242us/step - loss: 0.1433 - accuracy: 0.9619 - val_loss: 0.1812 - val_accuracy: 0.9556\n",
            "Epoch 140/200\n",
            "105/105 [==============================] - 0s 187us/step - loss: 0.1413 - accuracy: 0.9619 - val_loss: 0.1788 - val_accuracy: 0.9556\n",
            "Epoch 141/200\n",
            "105/105 [==============================] - 0s 194us/step - loss: 0.1394 - accuracy: 0.9619 - val_loss: 0.1769 - val_accuracy: 0.9556\n",
            "Epoch 142/200\n",
            "105/105 [==============================] - 0s 194us/step - loss: 0.1378 - accuracy: 0.9619 - val_loss: 0.1748 - val_accuracy: 0.9556\n",
            "Epoch 143/200\n",
            "105/105 [==============================] - 0s 192us/step - loss: 0.1359 - accuracy: 0.9619 - val_loss: 0.1742 - val_accuracy: 0.9556\n",
            "Epoch 144/200\n",
            "105/105 [==============================] - 0s 203us/step - loss: 0.1341 - accuracy: 0.9619 - val_loss: 0.1732 - val_accuracy: 0.9556\n",
            "Epoch 145/200\n",
            "105/105 [==============================] - 0s 178us/step - loss: 0.1327 - accuracy: 0.9619 - val_loss: 0.1716 - val_accuracy: 0.9556\n",
            "Epoch 146/200\n",
            "105/105 [==============================] - 0s 174us/step - loss: 0.1310 - accuracy: 0.9619 - val_loss: 0.1690 - val_accuracy: 0.9556\n",
            "Epoch 147/200\n",
            "105/105 [==============================] - 0s 206us/step - loss: 0.1293 - accuracy: 0.9619 - val_loss: 0.1665 - val_accuracy: 0.9556\n",
            "Epoch 148/200\n",
            "105/105 [==============================] - 0s 180us/step - loss: 0.1279 - accuracy: 0.9619 - val_loss: 0.1661 - val_accuracy: 0.9556\n",
            "Epoch 149/200\n",
            "105/105 [==============================] - 0s 178us/step - loss: 0.1262 - accuracy: 0.9619 - val_loss: 0.1644 - val_accuracy: 0.9556\n",
            "Epoch 150/200\n",
            "105/105 [==============================] - 0s 169us/step - loss: 0.1249 - accuracy: 0.9619 - val_loss: 0.1634 - val_accuracy: 0.9556\n",
            "Epoch 151/200\n",
            "105/105 [==============================] - 0s 178us/step - loss: 0.1238 - accuracy: 0.9619 - val_loss: 0.1613 - val_accuracy: 0.9556\n",
            "Epoch 152/200\n",
            "105/105 [==============================] - 0s 171us/step - loss: 0.1224 - accuracy: 0.9619 - val_loss: 0.1595 - val_accuracy: 0.9556\n",
            "Epoch 153/200\n",
            "105/105 [==============================] - 0s 182us/step - loss: 0.1211 - accuracy: 0.9619 - val_loss: 0.1561 - val_accuracy: 0.9556\n",
            "Epoch 154/200\n",
            "105/105 [==============================] - 0s 178us/step - loss: 0.1197 - accuracy: 0.9619 - val_loss: 0.1538 - val_accuracy: 0.9556\n",
            "Epoch 155/200\n",
            "105/105 [==============================] - 0s 181us/step - loss: 0.1187 - accuracy: 0.9619 - val_loss: 0.1537 - val_accuracy: 0.9556\n",
            "Epoch 156/200\n",
            "105/105 [==============================] - 0s 178us/step - loss: 0.1175 - accuracy: 0.9619 - val_loss: 0.1543 - val_accuracy: 0.9556\n",
            "Epoch 157/200\n",
            "105/105 [==============================] - 0s 230us/step - loss: 0.1162 - accuracy: 0.9619 - val_loss: 0.1518 - val_accuracy: 0.9556\n",
            "Epoch 158/200\n",
            "105/105 [==============================] - 0s 174us/step - loss: 0.1151 - accuracy: 0.9619 - val_loss: 0.1519 - val_accuracy: 0.9556\n",
            "Epoch 159/200\n",
            "105/105 [==============================] - 0s 180us/step - loss: 0.1141 - accuracy: 0.9619 - val_loss: 0.1486 - val_accuracy: 0.9556\n",
            "Epoch 160/200\n",
            "105/105 [==============================] - 0s 177us/step - loss: 0.1133 - accuracy: 0.9619 - val_loss: 0.1504 - val_accuracy: 0.9556\n",
            "Epoch 161/200\n",
            "105/105 [==============================] - 0s 199us/step - loss: 0.1119 - accuracy: 0.9619 - val_loss: 0.1477 - val_accuracy: 0.9556\n",
            "Epoch 162/200\n",
            "105/105 [==============================] - 0s 187us/step - loss: 0.1108 - accuracy: 0.9619 - val_loss: 0.1459 - val_accuracy: 0.9556\n",
            "Epoch 163/200\n",
            "105/105 [==============================] - 0s 213us/step - loss: 0.1097 - accuracy: 0.9619 - val_loss: 0.1459 - val_accuracy: 0.9556\n",
            "Epoch 164/200\n",
            "105/105 [==============================] - 0s 186us/step - loss: 0.1088 - accuracy: 0.9619 - val_loss: 0.1454 - val_accuracy: 0.9556\n",
            "Epoch 165/200\n",
            "105/105 [==============================] - 0s 193us/step - loss: 0.1080 - accuracy: 0.9619 - val_loss: 0.1429 - val_accuracy: 0.9556\n",
            "Epoch 166/200\n",
            "105/105 [==============================] - 0s 190us/step - loss: 0.1068 - accuracy: 0.9619 - val_loss: 0.1430 - val_accuracy: 0.9556\n",
            "Epoch 167/200\n",
            "105/105 [==============================] - 0s 177us/step - loss: 0.1058 - accuracy: 0.9619 - val_loss: 0.1421 - val_accuracy: 0.9556\n",
            "Epoch 168/200\n",
            "105/105 [==============================] - 0s 175us/step - loss: 0.1050 - accuracy: 0.9714 - val_loss: 0.1411 - val_accuracy: 0.9556\n",
            "Epoch 169/200\n",
            "105/105 [==============================] - 0s 179us/step - loss: 0.1041 - accuracy: 0.9714 - val_loss: 0.1391 - val_accuracy: 0.9556\n",
            "Epoch 170/200\n",
            "105/105 [==============================] - 0s 179us/step - loss: 0.1033 - accuracy: 0.9714 - val_loss: 0.1380 - val_accuracy: 0.9556\n",
            "Epoch 171/200\n",
            "105/105 [==============================] - 0s 173us/step - loss: 0.1027 - accuracy: 0.9714 - val_loss: 0.1377 - val_accuracy: 0.9556\n",
            "Epoch 172/200\n",
            "105/105 [==============================] - 0s 173us/step - loss: 0.1015 - accuracy: 0.9714 - val_loss: 0.1352 - val_accuracy: 0.9556\n",
            "Epoch 173/200\n",
            "105/105 [==============================] - 0s 167us/step - loss: 0.1007 - accuracy: 0.9714 - val_loss: 0.1335 - val_accuracy: 0.9556\n",
            "Epoch 174/200\n",
            "105/105 [==============================] - 0s 182us/step - loss: 0.1000 - accuracy: 0.9714 - val_loss: 0.1328 - val_accuracy: 0.9556\n",
            "Epoch 175/200\n",
            "105/105 [==============================] - 0s 190us/step - loss: 0.0991 - accuracy: 0.9714 - val_loss: 0.1309 - val_accuracy: 0.9556\n",
            "Epoch 176/200\n",
            "105/105 [==============================] - 0s 245us/step - loss: 0.0985 - accuracy: 0.9714 - val_loss: 0.1303 - val_accuracy: 0.9556\n",
            "Epoch 177/200\n",
            "105/105 [==============================] - 0s 186us/step - loss: 0.0978 - accuracy: 0.9714 - val_loss: 0.1281 - val_accuracy: 0.9556\n",
            "Epoch 178/200\n",
            "105/105 [==============================] - 0s 195us/step - loss: 0.0971 - accuracy: 0.9714 - val_loss: 0.1262 - val_accuracy: 0.9556\n",
            "Epoch 179/200\n",
            "105/105 [==============================] - 0s 199us/step - loss: 0.0969 - accuracy: 0.9714 - val_loss: 0.1279 - val_accuracy: 0.9556\n",
            "Epoch 180/200\n",
            "105/105 [==============================] - 0s 200us/step - loss: 0.0956 - accuracy: 0.9714 - val_loss: 0.1275 - val_accuracy: 0.9556\n",
            "Epoch 181/200\n",
            "105/105 [==============================] - 0s 185us/step - loss: 0.0952 - accuracy: 0.9714 - val_loss: 0.1277 - val_accuracy: 0.9556\n",
            "Epoch 182/200\n",
            "105/105 [==============================] - 0s 204us/step - loss: 0.0945 - accuracy: 0.9714 - val_loss: 0.1278 - val_accuracy: 0.9556\n",
            "Epoch 183/200\n",
            "105/105 [==============================] - 0s 174us/step - loss: 0.0940 - accuracy: 0.9714 - val_loss: 0.1259 - val_accuracy: 0.9556\n",
            "Epoch 184/200\n",
            "105/105 [==============================] - 0s 179us/step - loss: 0.0931 - accuracy: 0.9714 - val_loss: 0.1258 - val_accuracy: 0.9556\n",
            "Epoch 185/200\n",
            "105/105 [==============================] - 0s 233us/step - loss: 0.0926 - accuracy: 0.9714 - val_loss: 0.1242 - val_accuracy: 0.9556\n",
            "Epoch 186/200\n",
            "105/105 [==============================] - 0s 193us/step - loss: 0.0920 - accuracy: 0.9714 - val_loss: 0.1217 - val_accuracy: 0.9556\n",
            "Epoch 187/200\n",
            "105/105 [==============================] - 0s 254us/step - loss: 0.0918 - accuracy: 0.9714 - val_loss: 0.1233 - val_accuracy: 0.9556\n",
            "Epoch 188/200\n",
            "105/105 [==============================] - 0s 199us/step - loss: 0.0907 - accuracy: 0.9714 - val_loss: 0.1221 - val_accuracy: 0.9556\n",
            "Epoch 189/200\n",
            "105/105 [==============================] - 0s 195us/step - loss: 0.0906 - accuracy: 0.9714 - val_loss: 0.1222 - val_accuracy: 0.9556\n",
            "Epoch 190/200\n",
            "105/105 [==============================] - 0s 215us/step - loss: 0.0898 - accuracy: 0.9714 - val_loss: 0.1170 - val_accuracy: 0.9556\n",
            "Epoch 191/200\n",
            "105/105 [==============================] - 0s 199us/step - loss: 0.0890 - accuracy: 0.9714 - val_loss: 0.1152 - val_accuracy: 0.9556\n",
            "Epoch 192/200\n",
            "105/105 [==============================] - 0s 204us/step - loss: 0.0888 - accuracy: 0.9714 - val_loss: 0.1168 - val_accuracy: 0.9556\n",
            "Epoch 193/200\n",
            "105/105 [==============================] - 0s 170us/step - loss: 0.0879 - accuracy: 0.9714 - val_loss: 0.1144 - val_accuracy: 0.9556\n",
            "Epoch 194/200\n",
            "105/105 [==============================] - 0s 189us/step - loss: 0.0874 - accuracy: 0.9714 - val_loss: 0.1141 - val_accuracy: 0.9556\n",
            "Epoch 195/200\n",
            "105/105 [==============================] - 0s 200us/step - loss: 0.0869 - accuracy: 0.9714 - val_loss: 0.1138 - val_accuracy: 0.9556\n",
            "Epoch 196/200\n",
            "105/105 [==============================] - 0s 204us/step - loss: 0.0866 - accuracy: 0.9619 - val_loss: 0.1126 - val_accuracy: 0.9556\n",
            "Epoch 197/200\n",
            "105/105 [==============================] - 0s 201us/step - loss: 0.0863 - accuracy: 0.9714 - val_loss: 0.1174 - val_accuracy: 0.9556\n",
            "Epoch 198/200\n",
            "105/105 [==============================] - 0s 225us/step - loss: 0.0855 - accuracy: 0.9714 - val_loss: 0.1175 - val_accuracy: 0.9556\n",
            "Epoch 199/200\n",
            "105/105 [==============================] - 0s 177us/step - loss: 0.0850 - accuracy: 0.9714 - val_loss: 0.1167 - val_accuracy: 0.9556\n",
            "Epoch 200/200\n",
            "105/105 [==============================] - 0s 173us/step - loss: 0.0844 - accuracy: 0.9714 - val_loss: 0.1137 - val_accuracy: 0.9556\n"
          ],
          "name": "stdout"
        }
      ]
    },
    {
      "cell_type": "code",
      "metadata": {
        "id": "hWak-xq2zZnX",
        "colab_type": "code",
        "colab": {
          "base_uri": "https://localhost:8080/",
          "height": 35
        },
        "outputId": "1a6317b9-c462-4a4b-b9ac-e07e14807373"
      },
      "source": [
        "print(history.history.keys())"
      ],
      "execution_count": 12,
      "outputs": [
        {
          "output_type": "stream",
          "text": [
            "dict_keys(['val_loss', 'val_accuracy', 'loss', 'accuracy'])\n"
          ],
          "name": "stdout"
        }
      ]
    },
    {
      "cell_type": "code",
      "metadata": {
        "id": "X1sPVRpGx48w",
        "colab_type": "code",
        "colab": {
          "base_uri": "https://localhost:8080/",
          "height": 295
        },
        "outputId": "bb80324d-fd8d-4ede-a8c7-5710a45dd404"
      },
      "source": [
        "\n",
        "# summarize history for accuracy\n",
        "plt.plot(history.history['accuracy'])\n",
        "plt.plot(history.history['val_accuracy'])\n",
        "plt.title('model accuracy')\n",
        "plt.ylabel('accuracy')\n",
        "plt.xlabel('epoch')\n",
        "plt.legend(['train', 'test'], loc='upper left')\n",
        "plt.show()"
      ],
      "execution_count": 13,
      "outputs": [
        {
          "output_type": "display_data",
          "data": {
            "image/png": "[encoded data removed]",
            "text/plain": [
              "<Figure size 432x288 with 1 Axes>"
            ]
          },
          "metadata": {
            "tags": [],
            "needs_background": "light"
          }
        }
      ]
    },
    {
      "cell_type": "code",
      "metadata": {
        "id": "YIhbdkH4y3xD",
        "colab_type": "code",
        "colab": {
          "base_uri": "https://localhost:8080/",
          "height": 295
        },
        "outputId": "2bdae830-66c7-4da8-8c6c-823bb3600caa"
      },
      "source": [
        "\n",
        "# summarize history for loss\n",
        "plt.plot(history.history['loss'])\n",
        "plt.plot(history.history['val_loss'])\n",
        "plt.title('model loss')\n",
        "plt.ylabel('loss')\n",
        "plt.xlabel('epoch')\n",
        "plt.legend(['train', 'test'], loc='upper left')\n",
        "plt.show()"
      ],
      "execution_count": 14,
      "outputs": [
        {
          "output_type": "display_data",
          "data": {
            "image/png": "[encoded data removed]",
            "text/plain": [
              "<Figure size 432x288 with 1 Axes>"
            ]
          },
          "metadata": {
            "tags": [],
            "needs_background": "light"
          }
        }
      ]
    },
    {
      "cell_type": "code",
      "metadata": {
        "id": "ToCzUuH-0URP",
        "colab_type": "code",
        "colab": {}
      },
      "source": [
        ""
      ],
      "execution_count": null,
      "outputs": []
    }
  ]
}